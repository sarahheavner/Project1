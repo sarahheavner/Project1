{
 "cells": [
  {
   "cell_type": "code",
   "execution_count": 1,
   "metadata": {},
   "outputs": [],
   "source": [
    "#Import Dependencies\n",
    "import matplotlib.pyplot as plt\n",
    "import requests\n",
    "from scipy import stats\n",
    "import pandas as pd\n",
    "from config import lunarcrush_api\n",
    "\n",
    "from pprint import pprint\n",
    "\n"
   ]
  },
  {
   "cell_type": "code",
   "execution_count": 2,
   "metadata": {},
   "outputs": [],
   "source": [
    "#URL Configuration\n",
    "url = 'https://api.lunarcrush.com/v2?data=assets'\n",
    "\n",
    "query_url = f'{url}&key={lunarcrush_api}&symbol='"
   ]
  },
  {
   "cell_type": "code",
   "execution_count": 10,
   "metadata": {
    "scrolled": false
   },
   "outputs": [],
   "source": [
    "#Create list of currency\n",
    "\n",
    "coins = ['BTC', 'ETH', 'LTC', 'BCH', 'BNB']\n",
    "percent_change_24h = []\n",
    "percent_change_7d = []\n",
    "percent_change_30d = []\n",
    "social_score = []\n",
    "correlation_rank = []\n",
    "volatility = []\n",
    "symbol = []\n",
    "\n",
    "for coin in coins:\n",
    "    response = requests.get(query_url + coin).json()\n",
    "    symbol.append(response['data'][0]['symbol'])\n",
    "    percent_change_24h.append(response['data'][0]['percent_change_24h'])\n",
    "    percent_change_7d.append(response['data'][0]['percent_change_7d'])\n",
    "    percent_change_30d.append(response['data'][0]['percent_change_30d'])\n",
    "    social_score.append(response['data'][0]['social_score'])\n",
    "    correlation_rank.append(response['data'][0]['correlation_rank'])\n",
    "    volatility.append(response['data'][0]['volatility'])\n",
    "\n"
   ]
  },
  {
   "cell_type": "code",
   "execution_count": 18,
   "metadata": {},
   "outputs": [],
   "source": [
    "#create dictionary to turn into DF\n",
    "\n",
    "lc_dict = {\n",
    "    'Symbol':symbol, \n",
    "    '%Change 24hour': percent_change_24h, \n",
    "    '%Change 7day': percent_change_7d, \n",
    "    '%Change 30day': percent_change_30d, \n",
    "    'Social Score': social_score, \n",
    "    'Correlation Rank': correlation_rank, \n",
    "    'Volatility': volatility} "
   ]
  },
  {
   "cell_type": "code",
   "execution_count": 19,
   "metadata": {
    "scrolled": true
   },
   "outputs": [
    {
     "data": {
      "text/html": [
       "<div>\n",
       "<style scoped>\n",
       "    .dataframe tbody tr th:only-of-type {\n",
       "        vertical-align: middle;\n",
       "    }\n",
       "\n",
       "    .dataframe tbody tr th {\n",
       "        vertical-align: top;\n",
       "    }\n",
       "\n",
       "    .dataframe thead th {\n",
       "        text-align: right;\n",
       "    }\n",
       "</style>\n",
       "<table border=\"1\" class=\"dataframe\">\n",
       "  <thead>\n",
       "    <tr style=\"text-align: right;\">\n",
       "      <th></th>\n",
       "      <th>Symbol</th>\n",
       "      <th>%Change 24hour</th>\n",
       "      <th>%Change 7day</th>\n",
       "      <th>%Change 30day</th>\n",
       "      <th>Social Score</th>\n",
       "      <th>Correlation Rank</th>\n",
       "      <th>Volatility</th>\n",
       "    </tr>\n",
       "  </thead>\n",
       "  <tbody>\n",
       "    <tr>\n",
       "      <th>0</th>\n",
       "      <td>BTC</td>\n",
       "      <td>1.55</td>\n",
       "      <td>13.22</td>\n",
       "      <td>21.64</td>\n",
       "      <td>13694725</td>\n",
       "      <td>5.0</td>\n",
       "      <td>0.005692</td>\n",
       "    </tr>\n",
       "    <tr>\n",
       "      <th>1</th>\n",
       "      <td>ETH</td>\n",
       "      <td>1.09</td>\n",
       "      <td>11.49</td>\n",
       "      <td>18.82</td>\n",
       "      <td>1563844</td>\n",
       "      <td>4.4</td>\n",
       "      <td>0.006746</td>\n",
       "    </tr>\n",
       "    <tr>\n",
       "      <th>2</th>\n",
       "      <td>LTC</td>\n",
       "      <td>5.79</td>\n",
       "      <td>24.33</td>\n",
       "      <td>31.32</td>\n",
       "      <td>49593</td>\n",
       "      <td>5.0</td>\n",
       "      <td>0.026329</td>\n",
       "    </tr>\n",
       "    <tr>\n",
       "      <th>3</th>\n",
       "      <td>BCH</td>\n",
       "      <td>1.96</td>\n",
       "      <td>11.28</td>\n",
       "      <td>27.35</td>\n",
       "      <td>17232</td>\n",
       "      <td>3.7</td>\n",
       "      <td>0.009246</td>\n",
       "    </tr>\n",
       "    <tr>\n",
       "      <th>4</th>\n",
       "      <td>BNB</td>\n",
       "      <td>0.86</td>\n",
       "      <td>0.40</td>\n",
       "      <td>25.16</td>\n",
       "      <td>9067</td>\n",
       "      <td>3.2</td>\n",
       "      <td>0.005583</td>\n",
       "    </tr>\n",
       "  </tbody>\n",
       "</table>\n",
       "</div>"
      ],
      "text/plain": [
       "  Symbol  %Change 24hour  %Change 7day  %Change 30day  Social Score  \\\n",
       "0    BTC            1.55         13.22          21.64      13694725   \n",
       "1    ETH            1.09         11.49          18.82       1563844   \n",
       "2    LTC            5.79         24.33          31.32         49593   \n",
       "3    BCH            1.96         11.28          27.35         17232   \n",
       "4    BNB            0.86          0.40          25.16          9067   \n",
       "\n",
       "   Correlation Rank  Volatility  \n",
       "0               5.0    0.005692  \n",
       "1               4.4    0.006746  \n",
       "2               5.0    0.026329  \n",
       "3               3.7    0.009246  \n",
       "4               3.2    0.005583  "
      ]
     },
     "execution_count": 19,
     "metadata": {},
     "output_type": "execute_result"
    }
   ],
   "source": [
    "lc_df = pd.DataFrame(lc_dict)\n",
    "lc_df"
   ]
  },
  {
   "cell_type": "code",
   "execution_count": null,
   "metadata": {},
   "outputs": [],
   "source": []
  },
  {
   "cell_type": "code",
   "execution_count": null,
   "metadata": {},
   "outputs": [],
   "source": []
  }
 ],
 "metadata": {
  "kernelspec": {
   "display_name": "Python [conda env:PythonData] *",
   "language": "python",
   "name": "conda-env-PythonData-py"
  },
  "language_info": {
   "codemirror_mode": {
    "name": "ipython",
    "version": 3
   },
   "file_extension": ".py",
   "mimetype": "text/x-python",
   "name": "python",
   "nbconvert_exporter": "python",
   "pygments_lexer": "ipython3",
   "version": "3.7.1"
  }
 },
 "nbformat": 4,
 "nbformat_minor": 4
}
