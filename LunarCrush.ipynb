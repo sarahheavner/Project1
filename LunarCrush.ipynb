{
 "cells": [
  {
   "cell_type": "code",
   "execution_count": 1,
   "metadata": {},
   "outputs": [],
   "source": [
    "#Import Dependencies\n",
    "import matplotlib.pyplot as plt\n",
    "import requests\n",
    "import scipy.stats as st\n",
    "import pandas as pd\n",
    "from config import lunarcrush_api\n",
    "import numpy as np"
   ]
  },
  {
   "cell_type": "code",
   "execution_count": 2,
   "metadata": {},
   "outputs": [],
   "source": [
    "#URL Configuration\n",
    "url = 'https://api.lunarcrush.com/v2?data=assets'\n",
    "\n",
    "query_url = f'{url}&key={lunarcrush_api}&symbol='"
   ]
  },
  {
   "cell_type": "code",
   "execution_count": 3,
   "metadata": {
    "scrolled": false
   },
   "outputs": [],
   "source": [
    "#Create list of currency\n",
    "\n",
    "coins = ['BTC', 'ETH', 'LTC', 'BCH', 'BNB', 'USDT', 'XRP'] \n",
    "percent_change_24h = []\n",
    "percent_change_7d = []\n",
    "percent_change_30d = []\n",
    "social_score = []\n",
    "correlation_rank = []\n",
    "volatility = []\n",
    "symbol = []\n",
    "galaxy_score = []\n",
    "\n",
    "for coin in coins:\n",
    "    response = requests.get(query_url + coin).json()\n",
    "    symbol.append(response['data'][0]['symbol'])\n",
    "    percent_change_24h.append(response['data'][0]['percent_change_24h'])\n",
    "    percent_change_7d.append(response['data'][0]['percent_change_7d'])\n",
    "    percent_change_30d.append(response['data'][0]['percent_change_30d'])\n",
    "    social_score.append(response['data'][0]['social_score'])\n",
    "    correlation_rank.append(response['data'][0]['correlation_rank'])\n",
    "    volatility.append(response['data'][0]['volatility'])\n",
    "    galaxy_score.append(response['data'][0]['galaxy_score'])\n",
    "\n"
   ]
  },
  {
   "cell_type": "code",
   "execution_count": 4,
   "metadata": {},
   "outputs": [],
   "source": [
    "#create dictionary to turn into DF\n",
    "\n",
    "lc_dict = {\n",
    "    'Symbol':symbol, \n",
    "    '%Change 24hour': percent_change_24h, \n",
    "    '%Change 7day': percent_change_7d, \n",
    "    '%Change 30day': percent_change_30d,  \n",
    "    'Volatility': volatility} \n",
    "\n",
    "social_dict = {'Symbol':symbol,\n",
    "               '%Change 30day': percent_change_30d,\n",
    "               'Social Score': social_score,\n",
    "               'Correlation Rank': correlation_rank,\n",
    "               'Galaxy Score':galaxy_score\n",
    "              }"
   ]
  },
  {
   "cell_type": "code",
   "execution_count": 5,
   "metadata": {
    "scrolled": true
   },
   "outputs": [
    {
     "data": {
      "text/html": [
       "<div>\n",
       "<style scoped>\n",
       "    .dataframe tbody tr th:only-of-type {\n",
       "        vertical-align: middle;\n",
       "    }\n",
       "\n",
       "    .dataframe tbody tr th {\n",
       "        vertical-align: top;\n",
       "    }\n",
       "\n",
       "    .dataframe thead th {\n",
       "        text-align: right;\n",
       "    }\n",
       "</style>\n",
       "<table border=\"1\" class=\"dataframe\">\n",
       "  <thead>\n",
       "    <tr style=\"text-align: right;\">\n",
       "      <th></th>\n",
       "      <th>%Change 24hour</th>\n",
       "      <th>%Change 7day</th>\n",
       "      <th>%Change 30day</th>\n",
       "      <th>Volatility</th>\n",
       "    </tr>\n",
       "    <tr>\n",
       "      <th>Symbol</th>\n",
       "      <th></th>\n",
       "      <th></th>\n",
       "      <th></th>\n",
       "      <th></th>\n",
       "    </tr>\n",
       "  </thead>\n",
       "  <tbody>\n",
       "    <tr>\n",
       "      <th>BTC</th>\n",
       "      <td>-4.11</td>\n",
       "      <td>0.00</td>\n",
       "      <td>22.06</td>\n",
       "      <td>0.019221</td>\n",
       "    </tr>\n",
       "    <tr>\n",
       "      <th>ETH</th>\n",
       "      <td>-4.74</td>\n",
       "      <td>-2.67</td>\n",
       "      <td>7.84</td>\n",
       "      <td>0.019588</td>\n",
       "    </tr>\n",
       "    <tr>\n",
       "      <th>LTC</th>\n",
       "      <td>-4.52</td>\n",
       "      <td>2.48</td>\n",
       "      <td>20.29</td>\n",
       "      <td>0.020274</td>\n",
       "    </tr>\n",
       "    <tr>\n",
       "      <th>BCH</th>\n",
       "      <td>1.30</td>\n",
       "      <td>1.66</td>\n",
       "      <td>16.68</td>\n",
       "      <td>0.019275</td>\n",
       "    </tr>\n",
       "    <tr>\n",
       "      <th>BNB</th>\n",
       "      <td>-4.60</td>\n",
       "      <td>0.06</td>\n",
       "      <td>10.63</td>\n",
       "      <td>0.018051</td>\n",
       "    </tr>\n",
       "    <tr>\n",
       "      <th>USDT</th>\n",
       "      <td>-0.28</td>\n",
       "      <td>-2.76</td>\n",
       "      <td>-0.95</td>\n",
       "      <td>0.000480</td>\n",
       "    </tr>\n",
       "    <tr>\n",
       "      <th>XRP</th>\n",
       "      <td>-2.33</td>\n",
       "      <td>-3.20</td>\n",
       "      <td>1.08</td>\n",
       "      <td>0.009317</td>\n",
       "    </tr>\n",
       "  </tbody>\n",
       "</table>\n",
       "</div>"
      ],
      "text/plain": [
       "        %Change 24hour  %Change 7day  %Change 30day  Volatility\n",
       "Symbol                                                         \n",
       "BTC              -4.11          0.00          22.06    0.019221\n",
       "ETH              -4.74         -2.67           7.84    0.019588\n",
       "LTC              -4.52          2.48          20.29    0.020274\n",
       "BCH               1.30          1.66          16.68    0.019275\n",
       "BNB              -4.60          0.06          10.63    0.018051\n",
       "USDT             -0.28         -2.76          -0.95    0.000480\n",
       "XRP              -2.33         -3.20           1.08    0.009317"
      ]
     },
     "execution_count": 5,
     "metadata": {},
     "output_type": "execute_result"
    }
   ],
   "source": [
    "lc_df = pd.DataFrame(lc_dict)\n",
    "lc_df.set_index('Symbol')"
   ]
  },
  {
   "cell_type": "code",
   "execution_count": 6,
   "metadata": {},
   "outputs": [
    {
     "data": {
      "image/png": "[encoded data removed]",
      "text/plain": [
       "<Figure size 432x288 with 1 Axes>"
      ]
     },
     "metadata": {
      "needs_background": "light"
     },
     "output_type": "display_data"
    }
   ],
   "source": [
    "x_axis = lc_df['Symbol']\n",
    "\n",
    "plt.bar(lc_df['Symbol'], lc_df['%Change 24hour'], color='r', alpha=0.5, align=\"center\")\n",
    "plt.title('Pricing Percent Change 24 Hours')\n",
    "plt.xlabel('Bitcoin')\n",
    "plt.ylabel('Pricing Percent Change')\n",
    "plt.show()"
   ]
  },
  {
   "cell_type": "code",
   "execution_count": 7,
   "metadata": {},
   "outputs": [
    {
     "data": {
      "image/png": "[encoded data removed]",
      "text/plain": [
       "<Figure size 432x288 with 1 Axes>"
      ]
     },
     "metadata": {
      "needs_background": "light"
     },
     "output_type": "display_data"
    }
   ],
   "source": [
    "x_axis = lc_df['Symbol']\n",
    "\n",
    "plt.bar(lc_df['Symbol'], lc_df['%Change 7day'], color='b', alpha=0.5, align=\"center\")\n",
    "plt.title('Pricing Percent Change 7 Days')\n",
    "plt.xlabel('Bitcoin')\n",
    "plt.ylabel('Pricing Percent Change')\n",
    "plt.show()"
   ]
  },
  {
   "cell_type": "code",
   "execution_count": 8,
   "metadata": {},
   "outputs": [
    {
     "data": {
      "image/png": "[encoded data removed]",
      "text/plain": [
       "<Figure size 432x288 with 1 Axes>"
      ]
     },
     "metadata": {
      "needs_background": "light"
     },
     "output_type": "display_data"
    }
   ],
   "source": [
    "x_axis = lc_df['Symbol']\n",
    "\n",
    "plt.bar(lc_df['Symbol'], lc_df['%Change 30day'], color='g', alpha=0.5, align=\"center\")\n",
    "plt.title('Pricing Percent Change 30 Days')\n",
    "plt.xlabel('Bitcoin')\n",
    "plt.ylabel('Pricing Percent Change')\n",
    "plt.show()"
   ]
  },
  {
   "cell_type": "code",
   "execution_count": 9,
   "metadata": {
    "scrolled": false
   },
   "outputs": [
    {
     "data": {
      "text/html": [
       "<div>\n",
       "<style scoped>\n",
       "    .dataframe tbody tr th:only-of-type {\n",
       "        vertical-align: middle;\n",
       "    }\n",
       "\n",
       "    .dataframe tbody tr th {\n",
       "        vertical-align: top;\n",
       "    }\n",
       "\n",
       "    .dataframe thead th {\n",
       "        text-align: right;\n",
       "    }\n",
       "</style>\n",
       "<table border=\"1\" class=\"dataframe\">\n",
       "  <thead>\n",
       "    <tr style=\"text-align: right;\">\n",
       "      <th></th>\n",
       "      <th>Symbol</th>\n",
       "      <th>%Change 30day</th>\n",
       "      <th>Social Score</th>\n",
       "      <th>Correlation Rank</th>\n",
       "      <th>Galaxy Score</th>\n",
       "    </tr>\n",
       "  </thead>\n",
       "  <tbody>\n",
       "    <tr>\n",
       "      <th>0</th>\n",
       "      <td>BTC</td>\n",
       "      <td>22.06</td>\n",
       "      <td>18687171</td>\n",
       "      <td>2.0</td>\n",
       "      <td>63.0</td>\n",
       "    </tr>\n",
       "    <tr>\n",
       "      <th>1</th>\n",
       "      <td>ETH</td>\n",
       "      <td>7.84</td>\n",
       "      <td>2547481</td>\n",
       "      <td>2.3</td>\n",
       "      <td>62.5</td>\n",
       "    </tr>\n",
       "    <tr>\n",
       "      <th>2</th>\n",
       "      <td>LTC</td>\n",
       "      <td>20.29</td>\n",
       "      <td>68720</td>\n",
       "      <td>1.8</td>\n",
       "      <td>59.5</td>\n",
       "    </tr>\n",
       "    <tr>\n",
       "      <th>3</th>\n",
       "      <td>BCH</td>\n",
       "      <td>16.68</td>\n",
       "      <td>200140</td>\n",
       "      <td>3.8</td>\n",
       "      <td>63.0</td>\n",
       "    </tr>\n",
       "    <tr>\n",
       "      <th>4</th>\n",
       "      <td>BNB</td>\n",
       "      <td>10.63</td>\n",
       "      <td>20722</td>\n",
       "      <td>1.7</td>\n",
       "      <td>56.5</td>\n",
       "    </tr>\n",
       "    <tr>\n",
       "      <th>5</th>\n",
       "      <td>USDT</td>\n",
       "      <td>-0.95</td>\n",
       "      <td>156198</td>\n",
       "      <td>3.6</td>\n",
       "      <td>65.5</td>\n",
       "    </tr>\n",
       "    <tr>\n",
       "      <th>6</th>\n",
       "      <td>XRP</td>\n",
       "      <td>1.08</td>\n",
       "      <td>751877</td>\n",
       "      <td>2.0</td>\n",
       "      <td>59.5</td>\n",
       "    </tr>\n",
       "  </tbody>\n",
       "</table>\n",
       "</div>"
      ],
      "text/plain": [
       "  Symbol  %Change 30day  Social Score  Correlation Rank  Galaxy Score\n",
       "0    BTC          22.06      18687171               2.0          63.0\n",
       "1    ETH           7.84       2547481               2.3          62.5\n",
       "2    LTC          20.29         68720               1.8          59.5\n",
       "3    BCH          16.68        200140               3.8          63.0\n",
       "4    BNB          10.63         20722               1.7          56.5\n",
       "5   USDT          -0.95        156198               3.6          65.5\n",
       "6    XRP           1.08        751877               2.0          59.5"
      ]
     },
     "execution_count": 9,
     "metadata": {},
     "output_type": "execute_result"
    }
   ],
   "source": [
    "social_df = pd.DataFrame(social_dict)\n",
    "social_df"
   ]
  },
  {
   "cell_type": "code",
   "execution_count": 20,
   "metadata": {
    "scrolled": true
   },
   "outputs": [
    {
     "name": "stdout",
     "output_type": "stream",
     "text": [
      "The correlation between both factors is -0.14\n"
     ]
    },
    {
     "data": {
      "image/png": "[encoded data removed]",
      "text/plain": [
       "<Figure size 432x288 with 1 Axes>"
      ]
     },
     "metadata": {
      "needs_background": "light"
     },
     "output_type": "display_data"
    }
   ],
   "source": [
    "plt.scatter(social_df['Galaxy Score'], social_df['%Change 30day'],facecolors=\"red\", edgecolors=\"black\" )\n",
    "correlation = st.pearsonr(social_df['Galaxy Score'], social_df['%Change 30day'])\n",
    "print(f\"The correlation between both factors is {round(correlation[0],2)}\")\n",
    "plt.title('Galaxy Score Vs % Pricing Change 30 Day')\n",
    "plt.xlabel('Galaxy Score')\n",
    "plt.ylabel('30 DayPercent Pricing Change')\n",
    "plt.show()"
   ]
  },
  {
   "cell_type": "code",
   "execution_count": 17,
   "metadata": {},
   "outputs": [
    {
     "name": "stdout",
     "output_type": "stream",
     "text": [
      "The correlation between both factors is -0.25\n"
     ]
    },
    {
     "data": {
      "image/png": "[encoded data removed]",
      "text/plain": [
       "<Figure size 432x288 with 1 Axes>"
      ]
     },
     "metadata": {
      "needs_background": "light"
     },
     "output_type": "display_data"
    }
   ],
   "source": [
    "plt.scatter(social_df['Correlation Rank'], social_df['%Change 30day'],facecolors=\"red\", edgecolors=\"black\" )\n",
    "correlation = st.pearsonr(social_df['Correlation Rank'], social_df['%Change 30day'])\n",
    "print(f\"The correlation between both factors is {round(correlation[0],2)}\")\n",
    "plt.title('Correlation Rank Vs % Pricing Change 30 Day')\n",
    "plt.xlabel('Correlation Rank')\n",
    "plt.ylabel('30 DayPercent Pricing Change')\n",
    "plt.show()"
   ]
  },
  {
   "cell_type": "code",
   "execution_count": 18,
   "metadata": {},
   "outputs": [
    {
     "name": "stdout",
     "output_type": "stream",
     "text": [
      "The correlation between both factors is 0.51\n"
     ]
    },
    {
     "data": {
      "image/png": "[encoded data removed]",
      "text/plain": [
       "<Figure size 432x288 with 1 Axes>"
      ]
     },
     "metadata": {
      "needs_background": "light"
     },
     "output_type": "display_data"
    }
   ],
   "source": [
    "plt.scatter(social_df['Social Score'], social_df['%Change 30day'],facecolors=\"red\", edgecolors=\"black\" )\n",
    "correlation = st.pearsonr(social_df['Social Score'], social_df['%Change 30day'])\n",
    "print(f\"The correlation between both factors is {round(correlation[0],2)}\")\n",
    "plt.title('Social Score Vs % Pricing Change 30 Day')\n",
    "plt.xlabel('Social Score')\n",
    "plt.ylabel('30 DayPercent Pricing Change')\n",
    "plt.show()"
   ]
  },
  {
   "cell_type": "code",
   "execution_count": null,
   "metadata": {},
   "outputs": [],
   "source": []
  }
 ],
 "metadata": {
  "kernelspec": {
   "display_name": "Python [conda env:PythonData] *",
   "language": "python",
   "name": "conda-env-PythonData-py"
  },
  "language_info": {
   "codemirror_mode": {
    "name": "ipython",
    "version": 3
   },
   "file_extension": ".py",
   "mimetype": "text/x-python",
   "name": "python",
   "nbconvert_exporter": "python",
   "pygments_lexer": "ipython3",
   "version": "3.7.1"
  }
 },
 "nbformat": 4,
 "nbformat_minor": 4
}
