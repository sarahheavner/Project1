{
 "cells": [
  {
   "cell_type": "code",
   "execution_count": 1,
   "metadata": {},
   "outputs": [],
   "source": [
    "#Import Dependencies\n",
    "import matplotlib.pyplot as plt\n",
    "import requests\n",
    "import scipy.stats as st\n",
    "import pandas as pd\n",
    "from config import lunarcrush_api\n",
    "import numpy as np"
   ]
  },
  {
   "cell_type": "code",
   "execution_count": 2,
   "metadata": {},
   "outputs": [],
   "source": [
    "#URL Configuration\n",
    "url = 'https://api.lunarcrush.com/v2?data=assets'\n",
    "\n",
    "query_url = f'{url}&key={lunarcrush_api}&symbol='"
   ]
  },
  {
   "cell_type": "code",
   "execution_count": 3,
   "metadata": {
    "scrolled": false
   },
   "outputs": [],
   "source": [
    "#Create list of currency\n",
    "\n",
    "coins = ['BTC', 'ETH', 'LTC', 'BCH', 'BNB', 'USDT', 'XRP'] \n",
    "percent_change_24h = []\n",
    "percent_change_7d = []\n",
    "percent_change_30d = []\n",
    "social_score = []\n",
    "correlation_rank = []\n",
    "volatility = []\n",
    "symbol = []\n",
    "galaxy_score = []\n",
    "\n",
    "for coin in coins:\n",
    "    response = requests.get(query_url + coin).json()\n",
    "    symbol.append(response['data'][0]['symbol'])\n",
    "    percent_change_24h.append(response['data'][0]['percent_change_24h'])\n",
    "    percent_change_7d.append(response['data'][0]['percent_change_7d'])\n",
    "    percent_change_30d.append(response['data'][0]['percent_change_30d'])\n",
    "    social_score.append(response['data'][0]['social_score'])\n",
    "    correlation_rank.append(response['data'][0]['correlation_rank'])\n",
    "    volatility.append(response['data'][0]['volatility'])\n",
    "    galaxy_score.append(response['data'][0]['galaxy_score'])\n",
    "\n"
   ]
  },
  {
   "cell_type": "code",
   "execution_count": 4,
   "metadata": {},
   "outputs": [],
   "source": [
    "#create dictionary to turn into DF\n",
    "\n",
    "lc_dict = {\n",
    "    'Symbol':symbol, \n",
    "    '%Change 24hour': percent_change_24h, \n",
    "    '%Change 7day': percent_change_7d, \n",
    "    '%Change 30day': percent_change_30d,  \n",
    "    'Volatility': volatility} \n",
    "\n",
    "social_dict = {'Symbol':symbol,\n",
    "               '%Change 30day': percent_change_30d,\n",
    "               'Social Score': social_score,\n",
    "               'Correlation Rank': correlation_rank,\n",
    "               'Galaxy Score':galaxy_score\n",
    "              }"
   ]
  },
  {
   "cell_type": "code",
   "execution_count": 5,
   "metadata": {
    "scrolled": true
   },
   "outputs": [
    {
     "data": {
      "text/html": [
       "<div>\n",
       "<style scoped>\n",
       "    .dataframe tbody tr th:only-of-type {\n",
       "        vertical-align: middle;\n",
       "    }\n",
       "\n",
       "    .dataframe tbody tr th {\n",
       "        vertical-align: top;\n",
       "    }\n",
       "\n",
       "    .dataframe thead th {\n",
       "        text-align: right;\n",
       "    }\n",
       "</style>\n",
       "<table border=\"1\" class=\"dataframe\">\n",
       "  <thead>\n",
       "    <tr style=\"text-align: right;\">\n",
       "      <th></th>\n",
       "      <th>%Change 24hour</th>\n",
       "      <th>%Change 7day</th>\n",
       "      <th>%Change 30day</th>\n",
       "      <th>Volatility</th>\n",
       "    </tr>\n",
       "    <tr>\n",
       "      <th>Symbol</th>\n",
       "      <th></th>\n",
       "      <th></th>\n",
       "      <th></th>\n",
       "      <th></th>\n",
       "    </tr>\n",
       "  </thead>\n",
       "  <tbody>\n",
       "    <tr>\n",
       "      <th>BTC</th>\n",
       "      <td>4.81</td>\n",
       "      <td>4.04</td>\n",
       "      <td>26.98</td>\n",
       "      <td>0.019497</td>\n",
       "    </tr>\n",
       "    <tr>\n",
       "      <th>ETH</th>\n",
       "      <td>2.93</td>\n",
       "      <td>2.62</td>\n",
       "      <td>13.70</td>\n",
       "      <td>0.016527</td>\n",
       "    </tr>\n",
       "    <tr>\n",
       "      <th>LTC</th>\n",
       "      <td>2.26</td>\n",
       "      <td>9.36</td>\n",
       "      <td>28.36</td>\n",
       "      <td>0.012565</td>\n",
       "    </tr>\n",
       "    <tr>\n",
       "      <th>BCH</th>\n",
       "      <td>2.48</td>\n",
       "      <td>1.48</td>\n",
       "      <td>16.47</td>\n",
       "      <td>0.015190</td>\n",
       "    </tr>\n",
       "    <tr>\n",
       "      <th>BNB</th>\n",
       "      <td>0.90</td>\n",
       "      <td>5.34</td>\n",
       "      <td>16.47</td>\n",
       "      <td>0.015499</td>\n",
       "    </tr>\n",
       "    <tr>\n",
       "      <th>USDT</th>\n",
       "      <td>0.26</td>\n",
       "      <td>-2.76</td>\n",
       "      <td>-0.95</td>\n",
       "      <td>0.000672</td>\n",
       "    </tr>\n",
       "    <tr>\n",
       "      <th>XRP</th>\n",
       "      <td>1.63</td>\n",
       "      <td>-0.34</td>\n",
       "      <td>4.07</td>\n",
       "      <td>0.010128</td>\n",
       "    </tr>\n",
       "  </tbody>\n",
       "</table>\n",
       "</div>"
      ],
      "text/plain": [
       "        %Change 24hour  %Change 7day  %Change 30day  Volatility\n",
       "Symbol                                                         \n",
       "BTC               4.81          4.04          26.98    0.019497\n",
       "ETH               2.93          2.62          13.70    0.016527\n",
       "LTC               2.26          9.36          28.36    0.012565\n",
       "BCH               2.48          1.48          16.47    0.015190\n",
       "BNB               0.90          5.34          16.47    0.015499\n",
       "USDT              0.26         -2.76          -0.95    0.000672\n",
       "XRP               1.63         -0.34           4.07    0.010128"
      ]
     },
     "execution_count": 5,
     "metadata": {},
     "output_type": "execute_result"
    }
   ],
   "source": [
    "lc_df = pd.DataFrame(lc_dict)\n",
    "lc_df.set_index('Symbol')"
   ]
  },
  {
   "cell_type": "code",
   "execution_count": 13,
   "metadata": {},
   "outputs": [
    {
     "data": {
      "image/png": "[encoded data removed]",
      "text/plain": [
       "<Figure size 432x288 with 1 Axes>"
      ]
     },
     "metadata": {
      "needs_background": "light"
     },
     "output_type": "display_data"
    }
   ],
   "source": [
    "x_axis = lc_df['Symbol']\n",
    "\n",
    "plt.bar(lc_df['Symbol'], lc_df['%Change 24hour'], color='r', alpha=0.5, align=\"center\")\n",
    "plt.title('Pricing Percent Change 24 Hours')\n",
    "plt.xlabel('Bitcoin')\n",
    "plt.ylabel('Pricing Percent Change')\n",
    "plt.show()"
   ]
  },
  {
   "cell_type": "code",
   "execution_count": 14,
   "metadata": {},
   "outputs": [
    {
     "data": {
      "image/png": "[encoded data removed]",
      "text/plain": [
       "<Figure size 432x288 with 1 Axes>"
      ]
     },
     "metadata": {
      "needs_background": "light"
     },
     "output_type": "display_data"
    }
   ],
   "source": [
    "x_axis = lc_df['Symbol']\n",
    "\n",
    "plt.bar(lc_df['Symbol'], lc_df['%Change 7day'], color='b', alpha=0.5, align=\"center\")\n",
    "plt.title('Pricing Percent Change 7 Days')\n",
    "plt.xlabel('Bitcoin')\n",
    "plt.ylabel('Pricing Percent Change')\n",
    "plt.show()"
   ]
  },
  {
   "cell_type": "code",
   "execution_count": 16,
   "metadata": {},
   "outputs": [
    {
     "data": {
      "image/png": "[encoded data removed]",
      "text/plain": [
       "<Figure size 432x288 with 1 Axes>"
      ]
     },
     "metadata": {
      "needs_background": "light"
     },
     "output_type": "display_data"
    }
   ],
   "source": [
    "x_axis = lc_df['Symbol']\n",
    "\n",
    "plt.bar(lc_df['Symbol'], lc_df['%Change 30day'], color='g', alpha=0.5, align=\"center\")\n",
    "plt.title('Pricing Percent Change 30 Days')\n",
    "plt.xlabel('Bitcoin')\n",
    "plt.ylabel('Pricing Percent Change')\n",
    "plt.show()"
   ]
  },
  {
   "cell_type": "code",
   "execution_count": 9,
   "metadata": {
    "scrolled": false
   },
   "outputs": [
    {
     "data": {
      "text/html": [
       "<div>\n",
       "<style scoped>\n",
       "    .dataframe tbody tr th:only-of-type {\n",
       "        vertical-align: middle;\n",
       "    }\n",
       "\n",
       "    .dataframe tbody tr th {\n",
       "        vertical-align: top;\n",
       "    }\n",
       "\n",
       "    .dataframe thead th {\n",
       "        text-align: right;\n",
       "    }\n",
       "</style>\n",
       "<table border=\"1\" class=\"dataframe\">\n",
       "  <thead>\n",
       "    <tr style=\"text-align: right;\">\n",
       "      <th></th>\n",
       "      <th>Symbol</th>\n",
       "      <th>%Change 30day</th>\n",
       "      <th>Social Score</th>\n",
       "      <th>Correlation Rank</th>\n",
       "      <th>Galaxy Score</th>\n",
       "    </tr>\n",
       "  </thead>\n",
       "  <tbody>\n",
       "    <tr>\n",
       "      <th>0</th>\n",
       "      <td>BTC</td>\n",
       "      <td>26.98</td>\n",
       "      <td>20328735</td>\n",
       "      <td>4.9</td>\n",
       "      <td>78.0</td>\n",
       "    </tr>\n",
       "    <tr>\n",
       "      <th>1</th>\n",
       "      <td>ETH</td>\n",
       "      <td>13.70</td>\n",
       "      <td>1487314</td>\n",
       "      <td>4.2</td>\n",
       "      <td>71.0</td>\n",
       "    </tr>\n",
       "    <tr>\n",
       "      <th>2</th>\n",
       "      <td>LTC</td>\n",
       "      <td>28.36</td>\n",
       "      <td>120655</td>\n",
       "      <td>3.1</td>\n",
       "      <td>68.0</td>\n",
       "    </tr>\n",
       "    <tr>\n",
       "      <th>3</th>\n",
       "      <td>BCH</td>\n",
       "      <td>16.47</td>\n",
       "      <td>4313</td>\n",
       "      <td>3.2</td>\n",
       "      <td>68.5</td>\n",
       "    </tr>\n",
       "    <tr>\n",
       "      <th>4</th>\n",
       "      <td>BNB</td>\n",
       "      <td>16.47</td>\n",
       "      <td>56790</td>\n",
       "      <td>3.2</td>\n",
       "      <td>65.0</td>\n",
       "    </tr>\n",
       "    <tr>\n",
       "      <th>5</th>\n",
       "      <td>USDT</td>\n",
       "      <td>-0.95</td>\n",
       "      <td>9343</td>\n",
       "      <td>2.9</td>\n",
       "      <td>73.0</td>\n",
       "    </tr>\n",
       "    <tr>\n",
       "      <th>6</th>\n",
       "      <td>XRP</td>\n",
       "      <td>4.07</td>\n",
       "      <td>166998</td>\n",
       "      <td>3.1</td>\n",
       "      <td>67.5</td>\n",
       "    </tr>\n",
       "  </tbody>\n",
       "</table>\n",
       "</div>"
      ],
      "text/plain": [
       "  Symbol  %Change 30day  Social Score  Correlation Rank  Galaxy Score\n",
       "0    BTC          26.98      20328735               4.9          78.0\n",
       "1    ETH          13.70       1487314               4.2          71.0\n",
       "2    LTC          28.36        120655               3.1          68.0\n",
       "3    BCH          16.47          4313               3.2          68.5\n",
       "4    BNB          16.47         56790               3.2          65.0\n",
       "5   USDT          -0.95          9343               2.9          73.0\n",
       "6    XRP           4.07        166998               3.1          67.5"
      ]
     },
     "execution_count": 9,
     "metadata": {},
     "output_type": "execute_result"
    }
   ],
   "source": [
    "social_df = pd.DataFrame(social_dict)\n",
    "social_df"
   ]
  },
  {
   "cell_type": "code",
   "execution_count": 12,
   "metadata": {
    "scrolled": true
   },
   "outputs": [
    {
     "data": {
      "text/plain": [
       "<matplotlib.collections.PathCollection at 0x287ce194390>"
      ]
     },
     "execution_count": 12,
     "metadata": {},
     "output_type": "execute_result"
    },
    {
     "data": {
      "image/png": "[encoded data removed]",
      "text/plain": [
       "<Figure size 432x288 with 1 Axes>"
      ]
     },
     "metadata": {
      "needs_background": "light"
     },
     "output_type": "display_data"
    }
   ],
   "source": [
    "plt.scatter(social_df['Galaxy Score'], social_df['%Change 30day'],facecolors=\"red\", edgecolors=\"black\" )"
   ]
  },
  {
   "cell_type": "code",
   "execution_count": 11,
   "metadata": {},
   "outputs": [
    {
     "data": {
      "text/plain": [
       "<matplotlib.collections.PathCollection at 0x287ce12aa58>"
      ]
     },
     "execution_count": 11,
     "metadata": {},
     "output_type": "execute_result"
    },
    {
     "data": {
      "image/png": "[encoded data removed]",
      "text/plain": [
       "<Figure size 432x288 with 1 Axes>"
      ]
     },
     "metadata": {
      "needs_background": "light"
     },
     "output_type": "display_data"
    }
   ],
   "source": [
    "plt.scatter(social_df['Correlation Rank'], social_df['%Change 30day'],facecolors=\"red\", edgecolors=\"black\" )"
   ]
  },
  {
   "cell_type": "code",
   "execution_count": null,
   "metadata": {},
   "outputs": [],
   "source": []
  }
 ],
 "metadata": {
  "kernelspec": {
   "display_name": "Python [conda env:PythonData] *",
   "language": "python",
   "name": "conda-env-PythonData-py"
  },
  "language_info": {
   "codemirror_mode": {
    "name": "ipython",
    "version": 3
   },
   "file_extension": ".py",
   "mimetype": "text/x-python",
   "name": "python",
   "nbconvert_exporter": "python",
   "pygments_lexer": "ipython3",
   "version": "3.7.1"
  }
 },
 "nbformat": 4,
 "nbformat_minor": 4
}
