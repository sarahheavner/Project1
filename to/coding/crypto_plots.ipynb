{
 "cells": [
  {
   "cell_type": "markdown",
   "metadata": {},
   "source": [
    "# Visual Analysis of Top 7 Cryptocurrencies Since 2015"
   ]
  },
  {
   "cell_type": "code",
   "execution_count": 1,
   "metadata": {},
   "outputs": [],
   "source": [
    "# Dependencies\n",
    "import pandas as pd\n",
    "import matplotlib.pyplot as plt\n",
    "import numpy as np\n",
    "import scipy.stats as st\n",
    "\n",
    "# Import data\n",
    "crypto_df = pd.read_csv('../../Resources/CryptoCurrency.csv')\n",
    "\n",
    "# Create List\n",
    "ticker_list = crypto_df['Ticker'].unique().tolist()\n",
    "values_list = ['Open in USD', 'High in USD', 'Low in USD', 'Close in USD', 'Adj Close in USD', 'Volume in Billions']"
   ]
  },
  {
   "cell_type": "markdown",
   "metadata": {},
   "source": [
    "## Total Volumes"
   ]
  },
  {
   "cell_type": "code",
   "execution_count": 2,
   "metadata": {},
   "outputs": [
    {
     "data": {
      "image/png": "[encoded data removed]",
      "text/plain": [
       "<Figure size 432x288 with 1 Axes>"
      ]
     },
     "metadata": {
      "needs_background": "light"
     },
     "output_type": "display_data"
    }
   ],
   "source": [
    "# Create empty list\n",
    "volume_list = []\n",
    "\n",
    "# Loop through ticker symbols\n",
    "for ticker in ticker_list:\n",
    "    \n",
    "    # Find sum of daily volumes\n",
    "    df = crypto_df.loc[crypto_df['Ticker'] == ticker]\n",
    "    volume = sum(df['Volume in Billions'])\n",
    "    \n",
    "    # Add total volumes to list\n",
    "    volume_list.append(volume)\n",
    "\n",
    "# Plot bar chart\n",
    "plt.bar(ticker_list, volume_list)\n",
    "plt.title('Total Volume of Currencies (since 2015)')\n",
    "plt.xlabel('Ticker')\n",
    "plt.ylabel('Total Volume (in Billions of USD)')\n",
    "plt.show()"
   ]
  },
  {
   "cell_type": "markdown",
   "metadata": {},
   "source": [
    "## Comparing Curriencies Over Time"
   ]
  },
  {
   "cell_type": "markdown",
   "metadata": {},
   "source": [
    "### Create Line Graphs Based on User Input"
   ]
  },
  {
   "cell_type": "code",
   "execution_count": null,
   "metadata": {},
   "outputs": [
    {
     "name": "stdout",
     "output_type": "stream",
     "text": [
      "Ticker List\n",
      "['BCH', 'BNB', 'BTC', 'ETH', 'LTC', 'USDT', 'XRP']\n",
      "-----------------------------------\n",
      "Select two currencies to compare based on above list:\n"
     ]
    }
   ],
   "source": [
    "print('Ticker List')\n",
    "print(ticker_list)\n",
    "print('-----------------------------------')\n",
    "print('Select two currencies to compare based on above list:')\n",
    "\n",
    "# Collect inputs\n",
    "ticker1 = input('Enter first ticker symbol:').upper()\n",
    "ticker2 = input('Enter second ticker symbol:').upper()\n",
    "print('-------------------------------------')\n",
    "\n",
    "print('Value List')\n",
    "print(values_list)\n",
    "print('-------------------------------------')\n",
    "column = input('Select a value to compare based on above list:')\n",
    "\n",
    "# Seperate user input into dataframes\n",
    "ticker1_df = crypto_df.loc[crypto_df['Ticker'] == ticker1]\n",
    "ticker2_df = crypto_df.loc[crypto_df['Ticker'] == ticker2]\n",
    "\n",
    "# Merge new dataframes to make subplots\n",
    "merged = pd.merge(ticker1_df, ticker2_df, how='inner', on='Date')\n",
    "\n",
    "# Narrow data down to two columns and rename\n",
    "column_df = merged[['Date',f'{column}_x',f'{column}_y']].set_index('Date')\n",
    "column_df = column_df.rename(columns = {f'{column}_x' : f'{column}_{ticker1}',\n",
    "                                        f'{column}_y' : f'{column}_{ticker2}'})\n",
    "\n",
    "# Create graphs\n",
    "column_df.plot.line(subplots=True, figsize=(10,7))\n",
    "plt.show()"
   ]
  },
  {
   "cell_type": "markdown",
   "metadata": {},
   "source": [
    "## Correlation Graphs"
   ]
  },
  {
   "cell_type": "markdown",
   "metadata": {},
   "source": [
    "### Open vs. Close"
   ]
  },
  {
   "cell_type": "code",
   "execution_count": 6,
   "metadata": {},
   "outputs": [
    {
     "name": "stdout",
     "output_type": "stream",
     "text": [
      "['BCH', 'BNB', 'BTC', 'ETH', 'LTC', 'USDT', 'XRP']\n",
      "------------------------\n",
      "Please select from the above list.\n",
      "Which Ticker would you like to look at?xrp\n",
      "-------------------------\n",
      "The r-value is 0.5849901353251661\n"
     ]
    },
    {
     "data": {
      "image/png": "[encoded data removed]",
      "text/plain": [
       "<Figure size 432x288 with 1 Axes>"
      ]
     },
     "metadata": {
      "needs_background": "light"
     },
     "output_type": "display_data"
    }
   ],
   "source": [
    "# Collect input\n",
    "print(ticker_list)\n",
    "print('------------------------')\n",
    "print('Please select from the above list.')\n",
    "ticker3 = input('Which Ticker would you like to look at?').upper()\n",
    "\n",
    "# Create dataframe based on input\n",
    "scatter_df = crypto_df.loc[crypto_df['Ticker'] == ticker3]\n",
    "\n",
    "# Determine variables\n",
    "x = scatter_df['Open in USD']\n",
    "y = scatter_df['Close in USD']\n",
    "\n",
    "# Get regression values and print r-values\n",
    "(slope, intercept, rvalue, pvalue, stderr) = st.linregress(x, y)\n",
    "regress_values = x * slope + intercept\n",
    "print('-------------------------')\n",
    "print(f'The r-value is {rvalue}')\n",
    "\n",
    "# Create Graph\n",
    "plt.scatter(x, y)\n",
    "plt.plot(x,regress_values,\"r-\")\n",
    "\n",
    "plt.title('Correlation Between Daily Open and Close Prices (USD)')\n",
    "plt.ylabel('Closing Prices')\n",
    "plt.xlabel('Open in USD')\n",
    "plt.show()"
   ]
  },
  {
   "cell_type": "markdown",
   "metadata": {},
   "source": [
    "### High vs. Close"
   ]
  },
  {
   "cell_type": "code",
   "execution_count": 8,
   "metadata": {
    "scrolled": true
   },
   "outputs": [
    {
     "name": "stdout",
     "output_type": "stream",
     "text": [
      "['BCH', 'BNB', 'BTC', 'ETH', 'LTC', 'USDT', 'XRP']\n",
      "------------------------\n",
      "Please select from the above list.\n",
      "Which Ticker would you like to look at?xrp\n",
      "-------------------------\n",
      "The r-value is 0.8806244219146048\n"
     ]
    },
    {
     "data": {
      "image/png": "[encoded data removed]",
      "text/plain": [
       "<Figure size 432x288 with 1 Axes>"
      ]
     },
     "metadata": {
      "needs_background": "light"
     },
     "output_type": "display_data"
    }
   ],
   "source": [
    "# Repeat previous cell with daily highs\n",
    "print(ticker_list)\n",
    "print('------------------------')\n",
    "print('Please select from the above list.')\n",
    "ticker3 = input('Which Ticker would you like to look at?').upper()\n",
    "\n",
    "scatter_df = crypto_df.loc[crypto_df['Ticker'] == ticker3]\n",
    "\n",
    "x = scatter_df['High in USD']\n",
    "y = scatter_df['Close in USD']\n",
    "\n",
    "(slope, intercept, rvalue, pvalue, stderr) = st.linregress(x, y)\n",
    "regress_values = x * slope + intercept\n",
    "print('-------------------------')\n",
    "print(f'The r-value is {rvalue}')\n",
    "\n",
    "plt.scatter(x, y)\n",
    "plt.plot(x,regress_values,\"r-\")\n",
    "\n",
    "plt.title('Correlation Between Daily High and Close Prices (USD)')\n",
    "plt.ylabel('Closing Prices')\n",
    "plt.xlabel('High in USD')\n",
    "plt.show()\n",
    "\n",
    "\n"
   ]
  },
  {
   "cell_type": "markdown",
   "metadata": {},
   "source": [
    "### Low vs. Close"
   ]
  },
  {
   "cell_type": "code",
   "execution_count": 10,
   "metadata": {
    "scrolled": true
   },
   "outputs": [
    {
     "name": "stdout",
     "output_type": "stream",
     "text": [
      "['BCH', 'BNB', 'BTC', 'ETH', 'LTC', 'USDT', 'XRP']\n",
      "------------------------\n",
      "Please select from the above list.\n",
      "Which Ticker would you like to look at?xrp\n",
      "-------------------------\n",
      "The r-value is 0.6418974615721681\n"
     ]
    },
    {
     "data": {
      "image/png": "[encoded data removed]",
      "text/plain": [
       "<Figure size 432x288 with 1 Axes>"
      ]
     },
     "metadata": {
      "needs_background": "light"
     },
     "output_type": "display_data"
    }
   ],
   "source": [
    "# Repeat with daily lows\n",
    "print(ticker_list)\n",
    "print('------------------------')\n",
    "print('Please select from the above list.')\n",
    "ticker3 = input('Which Ticker would you like to look at?').upper()\n",
    "\n",
    "scatter_df = crypto_df.loc[crypto_df['Ticker'] == ticker3]\n",
    "\n",
    "x = scatter_df['Low in USD']\n",
    "y = scatter_df['Close in USD']\n",
    "\n",
    "(slope, intercept, rvalue, pvalue, stderr) = st.linregress(x, y)\n",
    "regress_values = x * slope + intercept\n",
    "print('-------------------------')\n",
    "print(f'The r-value is {rvalue}')\n",
    "\n",
    "plt.scatter(x, y)\n",
    "plt.plot(x,regress_values,\"r-\")\n",
    "\n",
    "plt.title('Correlation Between Daily Low and Close Prices (USD)')\n",
    "plt.ylabel('Closing Prices')\n",
    "plt.xlabel('Low in USD')\n",
    "plt.show()\n",
    "\n"
   ]
  },
  {
   "cell_type": "code",
   "execution_count": null,
   "metadata": {},
   "outputs": [],
   "source": []
  }
 ],
 "metadata": {
  "kernelspec": {
   "display_name": "Python [conda env:PythonData] *",
   "language": "python",
   "name": "conda-env-PythonData-py"
  },
  "language_info": {
   "codemirror_mode": {
    "name": "ipython",
    "version": 3
   },
   "file_extension": ".py",
   "mimetype": "text/x-python",
   "name": "python",
   "nbconvert_exporter": "python",
   "pygments_lexer": "ipython3",
   "version": "3.7.1"
  }
 },
 "nbformat": 4,
 "nbformat_minor": 4
}
